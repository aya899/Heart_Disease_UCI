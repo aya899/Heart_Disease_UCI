{
 "cells": [
  {
   "cell_type": "code",
   "execution_count": 7,
   "id": "d8d86556",
   "metadata": {},
   "outputs": [],
   "source": [
    "import json\n",
    "import pandas as pd \n",
    "from sklearn.pipeline import make_pipeline\n",
    "from sklearn.preprocessing import MinMaxScaler\n",
    "from sklearn.model_selection import GridSearchCV\n",
    "from sklearn.model_selection import train_test_split\n",
    "from sklearn.linear_model import LogisticRegression\n",
    "from sklearn.tree import DecisionTreeClassifier\n",
    "from sklearn.ensemble import RandomForestClassifier\n",
    "from sklearn.svm import SVC\n",
    "from sklearn.metrics import accuracy_score\n",
    "import joblib"
   ]
  },
  {
   "cell_type": "code",
   "execution_count": 8,
   "id": "ee2ab754",
   "metadata": {},
   "outputs": [],
   "source": [
    "x_features=pd.read_csv('../processed/x_features.csv')\n",
    "with open(\"../processed/feature_selection.json\", \"r\") as f:\n",
    "    feature_names = json.load(f)\n",
    "\n",
    "x=x_features[feature_names]   \n",
    "y=pd.read_csv(\"../processed/target.csv\").values.ravel()\n",
    "\n",
    "\n",
    "X_train, X_test,y_train,y_test=train_test_split(x,y,test_size=0.2,random_state=42)"
   ]
  },
  {
   "cell_type": "markdown",
   "id": "c8ec2a1e",
   "metadata": {},
   "source": [
    " Hyperparameter Tuning by using GridSearchCV"
   ]
  },
  {
   "cell_type": "code",
   "execution_count": 9,
   "id": "c73298f9",
   "metadata": {},
   "outputs": [],
   "source": [
    "#to enhanced performance of the models \n",
    "\n",
    "models={\n",
    "    'SVC': {\n",
    "        'pipeline': make_pipeline(MinMaxScaler(), SVC()),\n",
    "        'params':{\n",
    "            'svc__C': [0.01, 0.1,1,10],  #svc__ : for telling grid search this is a 'svc' parameter not 'minmax' param\n",
    "            'svc__kernel':['linear','rbf'],\n",
    "            'svc__gamma':['scale','auto']\n",
    "        }\n",
    "    },\n",
    "    \n",
    "    'Random_forest':{\n",
    "        'pipeline':RandomForestClassifier(),\n",
    "        'params':{\n",
    "            'n_estimators': [50, 100],\n",
    "            'max_depth': [None, 10, 20],\n",
    "            'min_samples_split': [2, 5]\n",
    "\n",
    "        }\n",
    "    },\n",
    "    \n",
    "    'logistic_regression':{\n",
    "        'pipeline': make_pipeline(MinMaxScaler(), LogisticRegression(max_iter=1000)),\n",
    "        'params':{\n",
    "            'logisticregression__C': [0.01, 0.1, 1, 10],\n",
    "            'logisticregression__penalty': ['l2'],\n",
    "            'logisticregression__solver': ['lbfgs', 'liblinear']\n",
    "        }\n",
    "    },\n",
    "    \n",
    "    'Decision_tree':{\n",
    "        'pipeline':DecisionTreeClassifier(),\n",
    "        'params':{\n",
    "            'max_depth': [3,5,10,None],\n",
    "            'criterion': ['gini', 'entropy']\n",
    "        }\n",
    "    }\n",
    "}\n"
   ]
  },
  {
   "cell_type": "markdown",
   "id": "f606694d",
   "metadata": {},
   "source": [
    "compare between baseline accuracy and tuned accuracy "
   ]
  },
  {
   "cell_type": "code",
   "execution_count": 10,
   "id": "a4c78c92",
   "metadata": {},
   "outputs": [
    {
     "data": {
      "text/html": [
       "<div>\n",
       "<style scoped>\n",
       "    .dataframe tbody tr th:only-of-type {\n",
       "        vertical-align: middle;\n",
       "    }\n",
       "\n",
       "    .dataframe tbody tr th {\n",
       "        vertical-align: top;\n",
       "    }\n",
       "\n",
       "    .dataframe thead th {\n",
       "        text-align: right;\n",
       "    }\n",
       "</style>\n",
       "<table border=\"1\" class=\"dataframe\">\n",
       "  <thead>\n",
       "    <tr style=\"text-align: right;\">\n",
       "      <th></th>\n",
       "      <th>Model</th>\n",
       "      <th>Baseline Accuracy</th>\n",
       "      <th>Tuned Accuracy</th>\n",
       "      <th>Best Parameters</th>\n",
       "    </tr>\n",
       "  </thead>\n",
       "  <tbody>\n",
       "    <tr>\n",
       "      <th>0</th>\n",
       "      <td>SVC</td>\n",
       "      <td>0.824561</td>\n",
       "      <td>0.912281</td>\n",
       "      <td>{'svc__C': 1, 'svc__gamma': 'scale', 'svc__ker...</td>\n",
       "    </tr>\n",
       "    <tr>\n",
       "      <th>1</th>\n",
       "      <td>Random_forest</td>\n",
       "      <td>0.842105</td>\n",
       "      <td>0.859649</td>\n",
       "      <td>{'max_depth': None, 'min_samples_split': 5, 'n...</td>\n",
       "    </tr>\n",
       "    <tr>\n",
       "      <th>2</th>\n",
       "      <td>logistic_regression</td>\n",
       "      <td>0.912281</td>\n",
       "      <td>0.877193</td>\n",
       "      <td>{'logisticregression__C': 0.1, 'logisticregres...</td>\n",
       "    </tr>\n",
       "    <tr>\n",
       "      <th>3</th>\n",
       "      <td>Decision_tree</td>\n",
       "      <td>0.789474</td>\n",
       "      <td>0.824561</td>\n",
       "      <td>{'criterion': 'gini', 'max_depth': 5}</td>\n",
       "    </tr>\n",
       "  </tbody>\n",
       "</table>\n",
       "</div>"
      ],
      "text/plain": [
       "                 Model  Baseline Accuracy  Tuned Accuracy  \\\n",
       "0                  SVC           0.824561        0.912281   \n",
       "1        Random_forest           0.842105        0.859649   \n",
       "2  logistic_regression           0.912281        0.877193   \n",
       "3        Decision_tree           0.789474        0.824561   \n",
       "\n",
       "                                     Best Parameters  \n",
       "0  {'svc__C': 1, 'svc__gamma': 'scale', 'svc__ker...  \n",
       "1  {'max_depth': None, 'min_samples_split': 5, 'n...  \n",
       "2  {'logisticregression__C': 0.1, 'logisticregres...  \n",
       "3              {'criterion': 'gini', 'max_depth': 5}  "
      ]
     },
     "execution_count": 10,
     "metadata": {},
     "output_type": "execute_result"
    }
   ],
   "source": [
    "results=[]\n",
    "\n",
    "for model_name, model_param in models.items():\n",
    "    \n",
    "    base_model=model_param['pipeline']\n",
    "    base_model.fit(X_train,y_train)\n",
    "    y_pred_base=base_model.predict(X_test)\n",
    "    base_acc=accuracy_score(y_test,y_pred_base)\n",
    "    \n",
    "    \n",
    "    gs=GridSearchCV(model_param['pipeline'],model_param['params'],cv=5,scoring='accuracy',n_jobs=-1)\n",
    "    gs.fit(X_train,y_train)\n",
    "    best_model=gs.best_estimator_\n",
    "    y_pred_tuned=best_model.predict(X_test)\n",
    "    tuned_acc=accuracy_score(y_test,y_pred_tuned)\n",
    "    \n",
    "    results.append({\n",
    "        'Model':model_name,\n",
    "        'Baseline Accuracy':base_acc,\n",
    "        'Tuned Accuracy':tuned_acc,\n",
    "        'Best Parameters':gs.best_params_\n",
    "    })\n",
    "    \n",
    "    \n",
    "res_df=pd.DataFrame(results)\n",
    "res_df"
   ]
  },
  {
   "cell_type": "markdown",
   "id": "71d3722d",
   "metadata": {},
   "source": [
    "save best model "
   ]
  },
  {
   "cell_type": "code",
   "execution_count": 11,
   "id": "41e78f77",
   "metadata": {},
   "outputs": [
    {
     "data": {
      "text/plain": [
       "['../models/final_model.pkl']"
      ]
     },
     "execution_count": 11,
     "metadata": {},
     "output_type": "execute_result"
    }
   ],
   "source": [
    "joblib.dump(best_model,'../models/final_model.pkl')"
   ]
  },
  {
   "cell_type": "code",
   "execution_count": 12,
   "id": "4735f619",
   "metadata": {},
   "outputs": [
    {
     "name": "stdout",
     "output_type": "stream",
     "text": [
      "<class 'sklearn.tree._classes.DecisionTreeClassifier'>\n"
     ]
    }
   ],
   "source": [
    "\n",
    "# Load the saved model\n",
    "model = joblib.load('../models/final_model.pkl')\n",
    "print(type(model))\n"
   ]
  }
 ],
 "metadata": {
  "kernelspec": {
   "display_name": "base",
   "language": "python",
   "name": "python3"
  },
  "language_info": {
   "codemirror_mode": {
    "name": "ipython",
    "version": 3
   },
   "file_extension": ".py",
   "mimetype": "text/x-python",
   "name": "python",
   "nbconvert_exporter": "python",
   "pygments_lexer": "ipython3",
   "version": "3.13.5"
  }
 },
 "nbformat": 4,
 "nbformat_minor": 5
}
