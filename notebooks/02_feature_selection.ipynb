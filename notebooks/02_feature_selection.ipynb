{
 "cells": [
  {
   "cell_type": "code",
   "execution_count": 8,
   "id": "07c63e86",
   "metadata": {},
   "outputs": [],
   "source": [
    "import pandas as pd\n",
    "from sklearn.linear_model import LogisticRegression\n",
    "from sklearn.ensemble import RandomForestClassifier\n",
    "from sklearn.feature_selection import RFE\n",
    "from sklearn.feature_selection import chi2\n",
    "from sklearn.preprocessing import MinMaxScaler\n"
   ]
  },
  {
   "cell_type": "code",
   "execution_count": 9,
   "id": "60ffbe35",
   "metadata": {},
   "outputs": [],
   "source": [
    "\n",
    "df_cleaned=pd.read_csv(r\"C:\\Users\\LOQ\\OneDrive\\Desktop\\Heart_Disease_Project\\processed\\heart_cleaned.csv\")\n",
    "X = df_cleaned.drop(columns=\"target\")\n",
    "y= df_cleaned['target']"
   ]
  },
  {
   "cell_type": "markdown",
   "id": "602287a3",
   "metadata": {},
   "source": [
    "Random forset Classifier"
   ]
  },
  {
   "cell_type": "code",
   "execution_count": 10,
   "id": "57a2e0fa",
   "metadata": {},
   "outputs": [
    {
     "name": "stdout",
     "output_type": "stream",
     "text": [
      "     Feature  Importance\n",
      "7    thalach    0.125853\n",
      "11        ca    0.123930\n",
      "2         cp    0.120115\n",
      "12      thal    0.110071\n",
      "9    oldpeak    0.094418\n",
      "0        age    0.092003\n",
      "4       chol    0.085047\n",
      "3   trestbps    0.074026\n",
      "8      exang    0.058648\n",
      "10     slope    0.047428\n",
      "1        sex    0.035504\n",
      "6    restecg    0.021319\n",
      "5        fbs    0.011637\n"
     ]
    }
   ],
   "source": [
    "#rank features importance for prediction \n",
    "\n",
    "#random forest\n",
    "model=RandomForestClassifier(random_state=42)\n",
    "model.fit(X,y)\n",
    "\n",
    "importance = pd.DataFrame({\n",
    "    'Feature': X.columns,\n",
    "    'Importance': model.feature_importances_\n",
    "}).sort_values(by='Importance', ascending=False)\n",
    "\n",
    "print(importance)"
   ]
  },
  {
   "cell_type": "markdown",
   "id": "33b77f5d",
   "metadata": {},
   "source": [
    "RFE Selector"
   ]
  },
  {
   "cell_type": "code",
   "execution_count": 11,
   "id": "5420767f",
   "metadata": {},
   "outputs": [
    {
     "name": "stdout",
     "output_type": "stream",
     "text": [
      "     Feature  Selected (RFE)  Ranking\n",
      "1        sex            True        1\n",
      "2         cp            True        1\n",
      "5        fbs            True        1\n",
      "4       chol            True        1\n",
      "6    restecg            True        1\n",
      "10     slope            True        1\n",
      "9    oldpeak            True        1\n",
      "8      exang            True        1\n",
      "12      thal            True        1\n",
      "11        ca            True        1\n",
      "7    thalach           False        2\n",
      "3   trestbps           False        3\n",
      "0        age           False        4\n"
     ]
    }
   ],
   "source": [
    "model1=LogisticRegression(max_iter=1000)\n",
    "rfe=RFE(model1,n_features_to_select=10)\n",
    "rfe.fit(X,y)\n",
    "\n",
    "rfe_results = pd.DataFrame({\n",
    "    'Feature': X.columns,\n",
    "    'Selected (RFE)': rfe.support_,  #boolean \n",
    "    'Ranking': rfe.ranking_  #int numbers (1 means more important , higher no means less important)\n",
    "}).sort_values(by='Ranking')\n",
    "\n",
    "print(rfe_results)"
   ]
  },
  {
   "cell_type": "markdown",
   "id": "a4b992cd",
   "metadata": {},
   "source": [
    "Chi-Square Test"
   ]
  },
  {
   "cell_type": "code",
   "execution_count": 12,
   "id": "1c50e5df",
   "metadata": {},
   "outputs": [
    {
     "data": {
      "text/html": [
       "<div>\n",
       "<style scoped>\n",
       "    .dataframe tbody tr th:only-of-type {\n",
       "        vertical-align: middle;\n",
       "    }\n",
       "\n",
       "    .dataframe tbody tr th {\n",
       "        vertical-align: top;\n",
       "    }\n",
       "\n",
       "    .dataframe thead th {\n",
       "        text-align: right;\n",
       "    }\n",
       "</style>\n",
       "<table border=\"1\" class=\"dataframe\">\n",
       "  <thead>\n",
       "    <tr style=\"text-align: right;\">\n",
       "      <th></th>\n",
       "      <th>Feature</th>\n",
       "      <th>Importance</th>\n",
       "      <th>Selected (RFE)</th>\n",
       "      <th>Ranking</th>\n",
       "      <th>Chi value</th>\n",
       "      <th>p_value</th>\n",
       "    </tr>\n",
       "  </thead>\n",
       "  <tbody>\n",
       "    <tr>\n",
       "      <th>0</th>\n",
       "      <td>age</td>\n",
       "      <td>0.092003</td>\n",
       "      <td>False</td>\n",
       "      <td>4</td>\n",
       "      <td>0.984136</td>\n",
       "      <td>3.211799e-01</td>\n",
       "    </tr>\n",
       "    <tr>\n",
       "      <th>1</th>\n",
       "      <td>ca</td>\n",
       "      <td>0.123930</td>\n",
       "      <td>True</td>\n",
       "      <td>1</td>\n",
       "      <td>24.838104</td>\n",
       "      <td>6.235265e-07</td>\n",
       "    </tr>\n",
       "    <tr>\n",
       "      <th>2</th>\n",
       "      <td>chol</td>\n",
       "      <td>0.085047</td>\n",
       "      <td>True</td>\n",
       "      <td>1</td>\n",
       "      <td>0.253828</td>\n",
       "      <td>6.143927e-01</td>\n",
       "    </tr>\n",
       "    <tr>\n",
       "      <th>3</th>\n",
       "      <td>cp</td>\n",
       "      <td>0.120115</td>\n",
       "      <td>True</td>\n",
       "      <td>1</td>\n",
       "      <td>6.775822</td>\n",
       "      <td>9.240091e-03</td>\n",
       "    </tr>\n",
       "    <tr>\n",
       "      <th>4</th>\n",
       "      <td>exang</td>\n",
       "      <td>0.058648</td>\n",
       "      <td>True</td>\n",
       "      <td>1</td>\n",
       "      <td>35.470265</td>\n",
       "      <td>2.589739e-09</td>\n",
       "    </tr>\n",
       "    <tr>\n",
       "      <th>5</th>\n",
       "      <td>fbs</td>\n",
       "      <td>0.011637</td>\n",
       "      <td>True</td>\n",
       "      <td>1</td>\n",
       "      <td>0.159152</td>\n",
       "      <td>6.899384e-01</td>\n",
       "    </tr>\n",
       "    <tr>\n",
       "      <th>6</th>\n",
       "      <td>oldpeak</td>\n",
       "      <td>0.094418</td>\n",
       "      <td>True</td>\n",
       "      <td>1</td>\n",
       "      <td>14.441725</td>\n",
       "      <td>1.445636e-04</td>\n",
       "    </tr>\n",
       "    <tr>\n",
       "      <th>7</th>\n",
       "      <td>restecg</td>\n",
       "      <td>0.021319</td>\n",
       "      <td>True</td>\n",
       "      <td>1</td>\n",
       "      <td>4.798597</td>\n",
       "      <td>2.848292e-02</td>\n",
       "    </tr>\n",
       "    <tr>\n",
       "      <th>8</th>\n",
       "      <td>sex</td>\n",
       "      <td>0.035504</td>\n",
       "      <td>True</td>\n",
       "      <td>1</td>\n",
       "      <td>8.312017</td>\n",
       "      <td>3.938363e-03</td>\n",
       "    </tr>\n",
       "    <tr>\n",
       "      <th>9</th>\n",
       "      <td>slope</td>\n",
       "      <td>0.047428</td>\n",
       "      <td>True</td>\n",
       "      <td>1</td>\n",
       "      <td>9.201527</td>\n",
       "      <td>2.418133e-03</td>\n",
       "    </tr>\n",
       "    <tr>\n",
       "      <th>10</th>\n",
       "      <td>thal</td>\n",
       "      <td>0.110071</td>\n",
       "      <td>True</td>\n",
       "      <td>1</td>\n",
       "      <td>44.613418</td>\n",
       "      <td>2.400409e-11</td>\n",
       "    </tr>\n",
       "    <tr>\n",
       "      <th>11</th>\n",
       "      <td>thalach</td>\n",
       "      <td>0.125853</td>\n",
       "      <td>False</td>\n",
       "      <td>2</td>\n",
       "      <td>3.618723</td>\n",
       "      <td>5.713272e-02</td>\n",
       "    </tr>\n",
       "    <tr>\n",
       "      <th>12</th>\n",
       "      <td>trestbps</td>\n",
       "      <td>0.074026</td>\n",
       "      <td>False</td>\n",
       "      <td>3</td>\n",
       "      <td>0.366939</td>\n",
       "      <td>5.446774e-01</td>\n",
       "    </tr>\n",
       "  </tbody>\n",
       "</table>\n",
       "</div>"
      ],
      "text/plain": [
       "     Feature  Importance  Selected (RFE)  Ranking  Chi value       p_value\n",
       "0        age    0.092003           False        4   0.984136  3.211799e-01\n",
       "1         ca    0.123930            True        1  24.838104  6.235265e-07\n",
       "2       chol    0.085047            True        1   0.253828  6.143927e-01\n",
       "3         cp    0.120115            True        1   6.775822  9.240091e-03\n",
       "4      exang    0.058648            True        1  35.470265  2.589739e-09\n",
       "5        fbs    0.011637            True        1   0.159152  6.899384e-01\n",
       "6    oldpeak    0.094418            True        1  14.441725  1.445636e-04\n",
       "7    restecg    0.021319            True        1   4.798597  2.848292e-02\n",
       "8        sex    0.035504            True        1   8.312017  3.938363e-03\n",
       "9      slope    0.047428            True        1   9.201527  2.418133e-03\n",
       "10      thal    0.110071            True        1  44.613418  2.400409e-11\n",
       "11   thalach    0.125853           False        2   3.618723  5.713272e-02\n",
       "12  trestbps    0.074026           False        3   0.366939  5.446774e-01"
      ]
     },
     "execution_count": 12,
     "metadata": {},
     "output_type": "execute_result"
    }
   ],
   "source": [
    "#between two categorical features to show there is a relationship between them and target or not (also for prediction )\n",
    "#scaling to non negative values to work \n",
    "X_normalize = MinMaxScaler().fit_transform(X)\n",
    "\n",
    "chi2_values, p_values= chi2(X_normalize,y)\n",
    "\n",
    "chi2_res=pd.DataFrame({\n",
    "    'Feature': X.columns,\n",
    "    'Chi value': chi2_values,\n",
    "    'p_value': p_values\n",
    "})\n",
    "\n",
    "combined = pd.merge(importance, rfe_results, on='Feature', how='outer')\n",
    "combined_all=pd.merge(combined,chi2_res,on='Feature',how='outer')\n",
    "\n",
    "combined_all.fillna(0, inplace=True)\n",
    "\n",
    "combined_all\n",
    "\n",
    "\n"
   ]
  },
  {
   "cell_type": "code",
   "execution_count": 13,
   "id": "24bd1356",
   "metadata": {},
   "outputs": [
    {
     "name": "stdout",
     "output_type": "stream",
     "text": [
      "['ca', 'cp', 'exang', 'oldpeak', 'restecg', 'sex', 'slope', 'thal']\n"
     ]
    }
   ],
   "source": [
    "final= combined_all[\n",
    "    (combined_all['Selected (RFE)']==True)&\n",
    "    (combined_all['p_value']<0.05)&\n",
    "    (combined_all['Importance']>0.01)\n",
    "]\n",
    "\n",
    "feature_names = final['Feature'].tolist()\n",
    "print(feature_names)"
   ]
  },
  {
   "cell_type": "markdown",
   "id": "546b6c81",
   "metadata": {},
   "source": [
    "Save Final Features "
   ]
  },
  {
   "cell_type": "code",
   "execution_count": 14,
   "id": "782dab9c",
   "metadata": {},
   "outputs": [],
   "source": [
    "import json\n",
    "\n",
    "with open(\"../processed/feature_selection.json\", \"w\") as f:\n",
    "    json.dump(feature_names, f)\n",
    "\n",
    "X.to_csv('../processed/x_features.csv',index=False)\n",
    "y.to_csv('../processed/target.csv',index=False)"
   ]
  }
 ],
 "metadata": {
  "kernelspec": {
   "display_name": "base",
   "language": "python",
   "name": "python3"
  },
  "language_info": {
   "codemirror_mode": {
    "name": "ipython",
    "version": 3
   },
   "file_extension": ".py",
   "mimetype": "text/x-python",
   "name": "python",
   "nbconvert_exporter": "python",
   "pygments_lexer": "ipython3",
   "version": "3.13.5"
  }
 },
 "nbformat": 4,
 "nbformat_minor": 5
}
